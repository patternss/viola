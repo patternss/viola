{
 "cells": [
  {
   "cell_type": "code",
   "execution_count": 1,
   "id": "6d5bdac5-e4dc-4b25-aa43-a6ceb032dc1e",
   "metadata": {},
   "outputs": [
    {
     "name": "stderr",
     "output_type": "stream",
     "text": [
      "C:\\Users\\jaakk\\AppData\\Roaming\\Python\\Python311\\site-packages\\tqdm\\auto.py:21: TqdmWarning: IProgress not found. Please update jupyter and ipywidgets. See https://ipywidgets.readthedocs.io/en/stable/user_install.html\n",
      "  from .autonotebook import tqdm as notebook_tqdm\n",
      "C:\\Users\\jaakk\\AppData\\Local\\Temp\\ipykernel_15544\\4248334748.py:34: LangChainDeprecationWarning: The class `HuggingFaceEmbeddings` was deprecated in LangChain 0.2.2 and will be removed in 1.0. An updated version of the class exists in the :class:`~langchain-huggingface package and should be used instead. To use it run `pip install -U :class:`~langchain-huggingface` and import as `from :class:`~langchain_huggingface import HuggingFaceEmbeddings``.\n",
      "  emb = HuggingFaceEmbeddings(model_name=EMBED)\n",
      "C:\\Users\\jaakk\\AppData\\Roaming\\Python\\Python311\\site-packages\\huggingface_hub\\file_download.py:143: UserWarning: `huggingface_hub` cache-system uses symlinks by default to efficiently store duplicated files but your machine does not support them in C:\\Users\\jaakk\\.cache\\huggingface\\hub\\models--intfloat--multilingual-e5-small. Caching files will still work but in a degraded version that might require more space on your disk. This warning can be disabled by setting the `HF_HUB_DISABLE_SYMLINKS_WARNING` environment variable. For more details, see https://huggingface.co/docs/huggingface_hub/how-to-cache#limitations.\n",
      "To support symlinks on Windows, you either need to activate Developer Mode or to run Python as an administrator. In order to activate developer mode, see this article: https://docs.microsoft.com/en-us/windows/apps/get-started/enable-your-device-for-development\n",
      "  warnings.warn(message)\n",
      "Xet Storage is enabled for this repo, but the 'hf_xet' package is not installed. Falling back to regular HTTP download. For better performance, install the package with: `pip install huggingface_hub[hf_xet]` or `pip install hf_xet`\n",
      "Xet Storage is enabled for this repo, but the 'hf_xet' package is not installed. Falling back to regular HTTP download. For better performance, install the package with: `pip install huggingface_hub[hf_xet]` or `pip install hf_xet`\n",
      "Xet Storage is enabled for this repo, but the 'hf_xet' package is not installed. Falling back to regular HTTP download. For better performance, install the package with: `pip install huggingface_hub[hf_xet]` or `pip install hf_xet`\n",
      "C:\\Users\\jaakk\\AppData\\Local\\Temp\\ipykernel_15544\\4248334748.py:36: LangChainDeprecationWarning: The class `Chroma` was deprecated in LangChain 0.2.9 and will be removed in 1.0. An updated version of the class exists in the :class:`~langchain-chroma package and should be used instead. To use it run `pip install -U :class:`~langchain-chroma` and import as `from :class:`~langchain_chroma import Chroma``.\n",
      "  vs = Chroma(\n"
     ]
    },
    {
     "name": "stdout",
     "output_type": "stream",
     "text": [
      "Indexed 508 chunks into 'artificial_intelligence' at ./index/chroma\n"
     ]
    },
    {
     "name": "stderr",
     "output_type": "stream",
     "text": [
      "C:\\Users\\jaakk\\AppData\\Local\\Temp\\ipykernel_15544\\4248334748.py:56: LangChainDeprecationWarning: Since Chroma 0.4.x the manual persistence method is no longer supported as docs are automatically persisted.\n",
      "  vs.persist()\n"
     ]
    }
   ],
   "source": [
    "import os, glob, hashlib\n",
    "from langchain_community.document_loaders import TextLoader, PyPDFLoader\n",
    "from langchain.text_splitter import RecursiveCharacterTextSplitter\n",
    "from langchain_community.embeddings import HuggingFaceEmbeddings\n",
    "from langchain_community.vectorstores import Chroma\n",
    "\n",
    "PERSIST_DIR = \"./index/chroma\"\n",
    "COLLECTION = \"artificial_intelligence\"\n",
    "EMBED = \"intfloat/multilingual-e5-small\"  # good for Finnish\n",
    "CORPUS_DIR = \"./corpus\"\n",
    "\n",
    "def load_docs(corpus_dir=CORPUS_DIR):\n",
    "    paths = glob.glob(os.path.join(corpus_dir, \"**\", \"*\"), recursive=True)\n",
    "    docs = []\n",
    "    for p in paths:\n",
    "        pl = p.lower()\n",
    "        if pl.endswith(\".pdf\"):\n",
    "            docs += PyPDFLoader(p).load()\n",
    "        elif pl.endswith((\".txt\", \".md\")):\n",
    "            docs += TextLoader(p, encoding=\"utf-8\").load()\n",
    "    return docs\n",
    "\n",
    "def make_id(text: str) -> str:\n",
    "    # stable chunk id to avoid duplicates\n",
    "    return hashlib.sha1(text.strip().encode(\"utf-8\")).hexdigest()[:16]\n",
    "\n",
    "def main():\n",
    "    raw_docs = load_docs()\n",
    "    splitter = RecursiveCharacterTextSplitter(\n",
    "        chunk_size=800, chunk_overlap=120\n",
    "    )\n",
    "    chunks = splitter.split_documents(raw_docs)\n",
    "\n",
    "    emb = HuggingFaceEmbeddings(model_name=EMBED)\n",
    "\n",
    "    vs = Chroma(\n",
    "        collection_name=COLLECTION,\n",
    "        persist_directory=PERSIST_DIR,\n",
    "        embedding_function=emb,\n",
    "    )\n",
    "\n",
    "    texts, metas, ids = [], [], []\n",
    "    for d in chunks:\n",
    "        txt = d.page_content\n",
    "        src = d.metadata.get(\"source\", \"unknown\")\n",
    "        page = d.metadata.get(\"page\", None)\n",
    "        cid = make_id(f\"{src}-{page}-{txt[:200]}\")\n",
    "        texts.append(txt)\n",
    "        metas.append({\"source\": src, \"page\": page})\n",
    "        ids.append(cid)\n",
    "\n",
    "    # upsert is idempotent if ids repeat\n",
    "    vs.add_texts(texts=texts, metadatas=metas, ids=ids)\n",
    "\n",
    "    # make sure it’s persisted\n",
    "    vs.persist()\n",
    "    print(f\"Indexed {len(texts)} chunks into '{COLLECTION}' at {PERSIST_DIR}\")\n",
    "\n",
    "if __name__ == \"__main__\":\n",
    "    main()\n"
   ]
  },
  {
   "cell_type": "code",
   "execution_count": 3,
   "id": "6c100317-416c-4301-9c69-72fa55bcb90c",
   "metadata": {},
   "outputs": [
    {
     "name": "stdout",
     "output_type": "stream",
     "text": [
      "['q', 'w', 'e', 'r']\n"
     ]
    }
   ],
   "source": []
  }
 ],
 "metadata": {
  "kernelspec": {
   "display_name": "Python 3 (ipykernel)",
   "language": "python",
   "name": "python3"
  },
  "language_info": {
   "codemirror_mode": {
    "name": "ipython",
    "version": 3
   },
   "file_extension": ".py",
   "mimetype": "text/x-python",
   "name": "python",
   "nbconvert_exporter": "python",
   "pygments_lexer": "ipython3",
   "version": "3.11.11"
  }
 },
 "nbformat": 4,
 "nbformat_minor": 5
}
